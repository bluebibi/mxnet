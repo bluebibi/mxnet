{
 "cells": [
  {
   "cell_type": "markdown",
   "metadata": {},
   "source": [
    "# 5.1 From Dense Layers to Convolutions"
   ]
  },
  {
   "cell_type": "markdown",
   "metadata": {},
   "source": [
    "- Networks with many parameters either require a lot of data or a lot of regularization.\n",
    "- Consider the task of distinguishing cats from dogs. \n",
    "  - We decide to use a good camera and take 1 megapixel photos \n",
    "  - The input into a network has 1 million dimensions. \n",
    "  - Even an aggressive reduction to 1,000 dimensions after the first layer means that...\n",
    "    - we need $10^9$ parameters. \n",
    "  - Add in subsequent layers and it is clear that this approach is infeasible.\n",
    "- Both humans and computers are able to distinguish cats from dogs quite well, often after only a few hundred images."
   ]
  },
  {
   "cell_type": "markdown",
   "metadata": {},
   "source": [
    "## 5.1.1 Invariances (two key principles)\n",
    "![](https://github.com/d2l-ai/d2l-en/raw/master/img/waldo.jpg)\n",
    "- [***Translation Invariance***] Object detectors should work the same regardless of where in the image an object can be found. \n",
    "  - In other words, the ‘waldoness’ of a location in the image can be assessed without regard of the position within the image.\n",
    "- [***Locality***] Object detection can be answered by considering only local information. \n",
    "  - In other words, the ‘waldoness’ of a location can be assessed without regard of what else happens in the image at large distances. "
   ]
  },
  {
   "cell_type": "markdown",
   "metadata": {},
   "source": [
    "## 5.1.2 Constraining the MLP\n",
    "- We will treat images and hidden layers as two-dimensional arrays. I.e. $x[i,j]$ and $h[i,j]$ denote the position $(i,j)$ in an image. \n",
    "- In this case a dense layer can be written as follows: $$h[i,j] = \\sum_{k,l} W[i,j,k,l] \\cdot x[k,l] = \\sum_{a, b} V[i,j,a,b] \\cdot x[i+a,j+b]$$\n",
    "  - we set $V[i,j,a,b] = W[i,j,i+a, j+b]$.\n",
    "  - For any given location $(i,j)$ in the hidden layer $h[i,j]$ we compute its value by summing over pixels in $x$, centered around $(i,j)$ and weighted by $V[i,j,a,b]$.\n",
    "- ***Translation Invariance***. \n",
    "  - This is only possible if $V$ doesn't actually depend on $(i,j)$, \n",
    "    - that is, we have $V[i,j,a,b] = V[a,b]$. \n",
    "  - As a result we can simplify the definition for $h$.\n",
    "  $$h[i,j] = \\sum_{a, b} V[a,b] \\cdot x[i+a,j+b]$$\n",
    "  - This is a convolution!\n",
    "    - We are effectively weighting pixels $(i+a, j+b)$ in the vicinity of $(i,j)$ with coefficients $V[a,b]$ to obtain the value $h[i,j]$. \n",
    "  - Note that $V[a,b]$ needs a lot fewer coefficients than $V[i,j,a,b]$. \n",
    "    - For a 1 megapixel image, it has at most 1 million coefficients. \n",
    "    - This is 1 million fewer parameters since it no longer depends on the location within the image. \n",
    "\n",
    "- ***Locality***\n",
    "  - We should not have to look very far away from $(i,j)$ in order to glean relevant information to assess what is going on at $h[i,j]$. \n",
    "  - This means that outside some range $|a|, |b| > \\Delta$, we should set $V[a,b] = 0$. \n",
    "  $$h[i,j] = \\sum_{a = -\\Delta}^{\\Delta} \\sum_{b = -\\Delta}^{\\Delta} V[a,b] \\cdot x[i+a,j+b]$$\n",
    "  - This is the convolutional layer. \n",
    "  - While in fully connected layer we might have needed $10^8$ or more coefficients, we now only need $O(\\Delta^2)$ terms. "
   ]
  },
  {
   "cell_type": "markdown",
   "metadata": {},
   "source": [
    "## 5.1.3 Convolutions"
   ]
  },
  {
   "cell_type": "markdown",
   "metadata": {},
   "source": [
    "# 5.2 Convolutions for Images\n",
    "- Strictly speaking, convolutional networks are a slight misnomer (but for notation only), since the operations are typically expressed as ***cross correlations***."
   ]
  },
  {
   "cell_type": "markdown",
   "metadata": {},
   "source": [
    "## 5.2.1 The Cross-Correlation Operator\n",
    "- kernel or filter\n",
    "  - The output array has a height of 2 and width of 2, and the four elements are derived from a two-dimensional cross-correlation operation:\n",
    "\n",
    "$$ 0\\times0+1\\times1+3\\times2+4\\times3=19,\\\\ 1\\times0+2\\times1+4\\times2+5\\times3=25,\\\\ 3\\times0+4\\times1+6\\times2+7\\times3=37,\\\\ 4\\times0+5\\times1+7\\times2+8\\times3=43. $$\n",
    "![](https://github.com/d2l-ai/d2l-en/raw/master/img/correlation.svg?sanitize=true)\n",
    "- Note that the output size is smaller than the input.\n",
    "  - Input size: $H \\times W$ \n",
    "  - Kernel size: $h \\times w$ \n",
    "  - Output size: $(H-h+1) \\times (W-w+1)$."
   ]
  },
  {
   "cell_type": "code",
   "execution_count": 1,
   "metadata": {},
   "outputs": [],
   "source": [
    "from mxnet import autograd, nd\n",
    "from mxnet.gluon import nn\n",
    "\n",
    "def corr2d(X, K):  # This function has been saved in the gluonbook package for future use.\n",
    "    h, w = K.shape\n",
    "    Y = nd.zeros((X.shape[0] - h + 1, X.shape[1] - w + 1))\n",
    "    for i in range(Y.shape[0]):\n",
    "        for j in range(Y.shape[1]):\n",
    "            Y[i, j] = (X[i: i + h, j: j + w] * K).sum()\n",
    "    return Y"
   ]
  },
  {
   "cell_type": "code",
   "execution_count": 2,
   "metadata": {},
   "outputs": [
    {
     "data": {
      "text/plain": [
       "\n",
       "[[19. 25.]\n",
       " [37. 43.]]\n",
       "<NDArray 2x2 @cpu(0)>"
      ]
     },
     "execution_count": 2,
     "metadata": {},
     "output_type": "execute_result"
    }
   ],
   "source": [
    "X = nd.array([[0, 1, 2], [3, 4, 5], [6, 7, 8]])\n",
    "K = nd.array([[0, 1], [2, 3]])\n",
    "corr2d(X, K)"
   ]
  },
  {
   "cell_type": "markdown",
   "metadata": {},
   "source": [
    "## 5.2.2 Convolutional Layers\n",
    "- The convolutional layer...\n",
    "  - 1) cross-correlates the input and kernels, \n",
    "  - 2) adds a scalar bias to get the output. \n",
    "- The model parameters of the convolutional layer include the kernel and scalar bias."
   ]
  },
  {
   "cell_type": "code",
   "execution_count": 3,
   "metadata": {},
   "outputs": [],
   "source": [
    "class Conv2D(nn.Block):\n",
    "    def __init__(self, kernel_size, **kwargs):\n",
    "        super(Conv2D, self).__init__(**kwargs)\n",
    "        self.weight = self.params.get('weight', shape=kernel_size)\n",
    "        self.bias = self.params.get('bias', shape=(1,))\n",
    "\n",
    "    def forward(self, x):\n",
    "        return corr2d(x, self.weight.data()) + self.bias.data()"
   ]
  },
  {
   "cell_type": "markdown",
   "metadata": {},
   "source": [
    "## 5.2.3 Object Edge Detection in Images\n",
    "- Let’s look at a simple application of a convolutional layer\n",
    "  - ***Detecting the edge of an object in an image*** by finding the location of the pixel change."
   ]
  },
  {
   "cell_type": "code",
   "execution_count": 4,
   "metadata": {},
   "outputs": [
    {
     "data": {
      "text/plain": [
       "\n",
       "[[1. 1. 0. 0. 0. 0. 1. 1.]\n",
       " [1. 1. 0. 0. 0. 0. 1. 1.]\n",
       " [1. 1. 0. 0. 0. 0. 1. 1.]\n",
       " [1. 1. 0. 0. 0. 0. 1. 1.]\n",
       " [1. 1. 0. 0. 0. 0. 1. 1.]\n",
       " [1. 1. 0. 0. 0. 0. 1. 1.]]\n",
       "<NDArray 6x8 @cpu(0)>"
      ]
     },
     "execution_count": 4,
     "metadata": {},
     "output_type": "execute_result"
    }
   ],
   "source": [
    "X = nd.ones((6, 8))\n",
    "X[:, 2:6] = 0\n",
    "X"
   ]
  },
  {
   "cell_type": "code",
   "execution_count": 5,
   "metadata": {},
   "outputs": [],
   "source": [
    "K = nd.array([[1, -1]])"
   ]
  },
  {
   "cell_type": "markdown",
   "metadata": {},
   "source": [
    "- We will detect 1 for the edge from white to black and -1 for the edge from black to white. \n",
    "- The rest of the outputs are 0."
   ]
  },
  {
   "cell_type": "code",
   "execution_count": 6,
   "metadata": {},
   "outputs": [
    {
     "data": {
      "text/plain": [
       "\n",
       "[[ 0.  1.  0.  0.  0. -1.  0.]\n",
       " [ 0.  1.  0.  0.  0. -1.  0.]\n",
       " [ 0.  1.  0.  0.  0. -1.  0.]\n",
       " [ 0.  1.  0.  0.  0. -1.  0.]\n",
       " [ 0.  1.  0.  0.  0. -1.  0.]\n",
       " [ 0.  1.  0.  0.  0. -1.  0.]]\n",
       "<NDArray 6x7 @cpu(0)>"
      ]
     },
     "execution_count": 6,
     "metadata": {},
     "output_type": "execute_result"
    }
   ],
   "source": [
    "Y = corr2d(X, K)\n",
    "Y"
   ]
  },
  {
   "cell_type": "markdown",
   "metadata": {},
   "source": [
    "- Let’s apply the kernel to the transposed ‘image’. As expected, it vanishes. \n",
    "- The kernel K only detects vertical edges."
   ]
  },
  {
   "cell_type": "code",
   "execution_count": 7,
   "metadata": {},
   "outputs": [
    {
     "data": {
      "text/plain": [
       "\n",
       "[[0. 0. 0. 0. 0.]\n",
       " [0. 0. 0. 0. 0.]\n",
       " [0. 0. 0. 0. 0.]\n",
       " [0. 0. 0. 0. 0.]\n",
       " [0. 0. 0. 0. 0.]\n",
       " [0. 0. 0. 0. 0.]\n",
       " [0. 0. 0. 0. 0.]\n",
       " [0. 0. 0. 0. 0.]]\n",
       "<NDArray 8x5 @cpu(0)>"
      ]
     },
     "execution_count": 7,
     "metadata": {},
     "output_type": "execute_result"
    }
   ],
   "source": [
    "corr2d(X.T, K)"
   ]
  },
  {
   "cell_type": "markdown",
   "metadata": {},
   "source": [
    "## 5.2.4 Learning a Kernel\n",
    "- We can learn the kernel that generated $Y$ from $X$ by looking at the (input, output) pairs only."
   ]
  },
  {
   "cell_type": "markdown",
   "metadata": {},
   "source": [
    "- We use the built-in Conv2D class provided by Gluon below.\n",
    "  - we construct a convolutional layer with 1 output channel and a kernel array shape of (1, 2).\n"
   ]
  },
  {
   "cell_type": "code",
   "execution_count": 16,
   "metadata": {},
   "outputs": [],
   "source": [
    "conv2d = nn.Conv2D(channels=1, kernel_size=(1, 2))\n",
    "conv2d.initialize()"
   ]
  },
  {
   "cell_type": "markdown",
   "metadata": {},
   "source": [
    "- The two-dimensional convolutional layer uses four-dimensional input and output in the format of (example, channel, height, width)\n",
    "  - The batch size (number of examples in the batch): 1\n",
    "  - The number of channels: 1"
   ]
  },
  {
   "cell_type": "code",
   "execution_count": 17,
   "metadata": {},
   "outputs": [
    {
     "data": {
      "text/plain": [
       "(\n",
       " [[[[1. 1. 0. 0. 0. 0. 1. 1.]\n",
       "    [1. 1. 0. 0. 0. 0. 1. 1.]\n",
       "    [1. 1. 0. 0. 0. 0. 1. 1.]\n",
       "    [1. 1. 0. 0. 0. 0. 1. 1.]\n",
       "    [1. 1. 0. 0. 0. 0. 1. 1.]\n",
       "    [1. 1. 0. 0. 0. 0. 1. 1.]]]]\n",
       " <NDArray 1x1x6x8 @cpu(0)>, \n",
       " [[[[ 0.  1.  0.  0.  0. -1.  0.]\n",
       "    [ 0.  1.  0.  0.  0. -1.  0.]\n",
       "    [ 0.  1.  0.  0.  0. -1.  0.]\n",
       "    [ 0.  1.  0.  0.  0. -1.  0.]\n",
       "    [ 0.  1.  0.  0.  0. -1.  0.]\n",
       "    [ 0.  1.  0.  0.  0. -1.  0.]]]]\n",
       " <NDArray 1x1x6x7 @cpu(0)>)"
      ]
     },
     "execution_count": 17,
     "metadata": {},
     "output_type": "execute_result"
    }
   ],
   "source": [
    "X = X.reshape((1, 1, 6, 8))\n",
    "Y = Y.reshape((1, 1, 6, 7))\n",
    "(X, Y)"
   ]
  },
  {
   "cell_type": "code",
   "execution_count": 18,
   "metadata": {},
   "outputs": [
    {
     "name": "stdout",
     "output_type": "stream",
     "text": [
      "batch 1, loss 12.495\n",
      "batch 2, loss 5.132\n",
      "batch 3, loss 2.111\n",
      "batch 4, loss 0.871\n",
      "batch 5, loss 0.360\n",
      "batch 6, loss 0.150\n",
      "batch 7, loss 0.063\n",
      "batch 8, loss 0.027\n",
      "batch 9, loss 0.012\n",
      "batch 10, loss 0.005\n"
     ]
    }
   ],
   "source": [
    "for i in range(10):\n",
    "    with autograd.record():\n",
    "        Y_hat = conv2d(X)\n",
    "        l = (Y_hat - Y) ** 2\n",
    "    l.backward()\n",
    "    # For the sake of simplicity, we ignore the bias here.\n",
    "    conv2d.weight.data()[:] -= 3e-2 * conv2d.weight.grad()\n",
    "    print('batch %d, loss %.3f' % (i + 1, l.sum().asscalar()))"
   ]
  },
  {
   "cell_type": "code",
   "execution_count": 19,
   "metadata": {},
   "outputs": [
    {
     "data": {
      "text/plain": [
       "\n",
       "[[ 0.9917276 -0.9848021]]\n",
       "<NDArray 1x2 @cpu(0)>"
      ]
     },
     "execution_count": 19,
     "metadata": {},
     "output_type": "execute_result"
    }
   ],
   "source": [
    "conv2d.weight.data().reshape((1, 2))"
   ]
  },
  {
   "cell_type": "markdown",
   "metadata": {},
   "source": [
    "## 5.2.5 Cross-correlation and Convolution\n",
    "- The core computation of a two-dimensional convolutional layer is a two-dimensional cross-correlation operation. \n",
    "- This performs a cross-correlation operation on the two-dimensional input data and the kernel, and then adds a bias."
   ]
  },
  {
   "cell_type": "markdown",
   "metadata": {},
   "source": [
    "# 5.3 Padding and Stride\n",
    "- Assuming the input shape is $n_h\\times n_w$ and the convolution kernel window shape is $k_h\\times k_w$, then the output shape will be $$(n_h-k_h+1) \\times (n_w-k_w+1).$$\n",
    "- Padding\n",
    "  - Multiple layers of convolutions reduce the information available at the boundary, often by much more than what we would want. If we start with a 240x240 pixel image, 10 layers of 5x5 convolutions reduce the image to 200x200 pixels, effectively slicing off 30% of the image and with it obliterating anything interesting on the boundaries. \n",
    "  - Padding mitigates this problem.\n",
    "    - Add extra pixels around the boundary of the image, thus increasing the effective size of the image \n",
    "    - The extra pixels typically assume the value 0.\n",
    "  \n",
    "![](https://github.com/d2l-ai/d2l-en/raw/master/img/conv_pad.svg?sanitize=true)\n",
    "  - If a total of $p_h$ rows are padded on both sides of the height and a total of $p_w$ columns are padded on both sides of width, the output shape will be $$(n_h-k_h+p_h+1)\\times(n_w-k_w+p_w+1)$$\n",
    "\n",
    "  - This means that the height and width of the output will increase by $p_h$ and $p_w$ respectively.\n",
    "  - In many cases, we will want to set $p_h=k_h-1$ and $p_w=k_w-1$ to give the input and output the same height and width. \n",
    "    - This will make it easier to predict the output shape of each layer when constructing the network.\n",
    "    - If $k_h$ is odd here, we will pad $p_h/2$ rows on both sides of the height. \n",
    "    - If $k_h$ is even, one possibility is to pad $\\lceil p_h/2\\rceil$ rows on the top of the input and $\\lfloor p_h/2\\rfloor$ rows on the bottom.\n",
    "    - We will pad both sides of the width in the same way.\n",
    "  - Convolutional neural networks often use convolution ***kernels with odd height and width values***, such as 1, 3, 5, and 7, \n",
    "    - So, <u>the number of padding rows or columns on both sides are the same</u>. "
   ]
  },
  {
   "cell_type": "markdown",
   "metadata": {},
   "source": [
    "- In the following example, the output size is \n",
    "  - $(n_h-k_h+p_h+1)\\times(n_w-k_w+p_w+1) = (8 - 3 + 2 + 1) * (8 - 3 + 2 + 1) = (8, 8)$"
   ]
  },
  {
   "cell_type": "code",
   "execution_count": 20,
   "metadata": {},
   "outputs": [
    {
     "data": {
      "text/plain": [
       "(8, 8)"
      ]
     },
     "execution_count": 20,
     "metadata": {},
     "output_type": "execute_result"
    }
   ],
   "source": [
    "from mxnet import nd\n",
    "from mxnet.gluon import nn\n",
    "\n",
    "# We define a convenience function to calculate the convolutional layer. This function initializes\n",
    "# the convolutional layer weights and performs corresponding dimensionality elevations and reductions\n",
    "# on the input and output.\n",
    "def comp_conv2d(conv2d, X):\n",
    "    conv2d.initialize()\n",
    "    # (1,1) indicates that the batch size and the number of channels (described in later chapters) are both 1.\n",
    "    X = X.reshape((1, 1) + X.shape)\n",
    "    Y = conv2d(X)\n",
    "    return Y.reshape(Y.shape[2:])  # Exclude the first two dimensions that do not interest us: batch and channel.\n",
    "\n",
    "# Note that here 1 row or column is padded on either side, so a total of 2 rows or columns are added.\n",
    "conv2d = nn.Conv2D(1, kernel_size=3, padding=1)\n",
    "X = nd.random.uniform(shape=(8, 8))\n",
    "comp_conv2d(conv2d, X).shape"
   ]
  },
  {
   "cell_type": "markdown",
   "metadata": {},
   "source": [
    "- In the following example, the output size is \n",
    "  - $(n_h-k_h+p_h+1)\\times(n_w-k_w+p_w+1) = (8 - 5 + 4 + 1) * (8 - 3 + 2 + 1) = (8, 8)$"
   ]
  },
  {
   "cell_type": "code",
   "execution_count": 23,
   "metadata": {},
   "outputs": [
    {
     "data": {
      "text/plain": [
       "(8, 8)"
      ]
     },
     "execution_count": 23,
     "metadata": {},
     "output_type": "execute_result"
    }
   ],
   "source": [
    "# Here, we use a convolution kernel with a height of 5 and a width of 3. The padding numbers on\n",
    "# both sides of the height and width are 2 and 1, respectively.\n",
    "conv2d = nn.Conv2D(1, kernel_size=(5, 3), padding=(2, 1))\n",
    "comp_conv2d(conv2d, X).shape"
   ]
  },
  {
   "cell_type": "markdown",
   "metadata": {},
   "source": [
    "## 5.3.2 Stride\n",
    "- Cross-correlation with strides of 3 and 2 for  height and width respectively.\n",
    "![](https://github.com/d2l-ai/d2l-en/raw/master/img/conv_stride.svg?sanitize=true)\n",
    "- When the stride for the height is $s_h$ and the stride for the width is $s_w$, the output shape is\n",
    "\n",
    "$$\\lfloor(n_h-k_h+p_h+s_h)/s_h\\rfloor \\times \\lfloor(n_w-k_w+p_w+s_w)/s_w\\rfloor.$$"
   ]
  },
  {
   "cell_type": "markdown",
   "metadata": {},
   "source": [
    "- In the following example, the output size is \n",
    "  - $\\lfloor(n_h-k_h+p_h+s_h)/s_h\\rfloor \\times \\lfloor(n_w-k_w+p_w+s_w)/s_w\\rfloor = \\lfloor(8-3+2+2)/2\\rfloor \\times \\lfloor(8-3+2+2)/2\\rfloor$ = (4, 4)"
   ]
  },
  {
   "cell_type": "code",
   "execution_count": 22,
   "metadata": {},
   "outputs": [
    {
     "data": {
      "text/plain": [
       "(4, 4)"
      ]
     },
     "execution_count": 22,
     "metadata": {},
     "output_type": "execute_result"
    }
   ],
   "source": [
    "conv2d = nn.Conv2D(1, kernel_size=3, padding=1, strides=2)\n",
    "comp_conv2d(conv2d, X).shape"
   ]
  },
  {
   "cell_type": "markdown",
   "metadata": {},
   "source": [
    "- In the following example, the output size is \n",
    "  - $\\lfloor(n_h-k_h+p_h+s_h)/s_h\\rfloor \\times \\lfloor(n_w-k_w+p_w+s_w)/s_w\\rfloor = \\lfloor(8-3+0+3)/3\\rfloor \\times \\lfloor(8-5+2+4)/4\\rfloor$ = (4, 4)"
   ]
  },
  {
   "cell_type": "code",
   "execution_count": 25,
   "metadata": {},
   "outputs": [
    {
     "data": {
      "text/plain": [
       "(2, 2)"
      ]
     },
     "execution_count": 25,
     "metadata": {},
     "output_type": "execute_result"
    }
   ],
   "source": [
    "conv2d = nn.Conv2D(1, kernel_size=(3, 5), padding=(0, 1), strides=(3, 4))\n",
    "comp_conv2d(conv2d, X).shape"
   ]
  },
  {
   "cell_type": "markdown",
   "metadata": {},
   "source": [
    "- When the padding number on both sides of the input height and width are $p_h$ and $p_w$ respectively, we call the padding $(p_h, p_w)$. \n",
    "- Specifically, when $p_h = p_w = p$, the padding is $p$. \n",
    "- When the strides on the height and width are $s_h$ and $s_w$, respectively, we call the stride $(s_h, s_w)$. \n",
    "- Specifically, when $s_h = s_w = s$, the stride is $s$. \n",
    "\n",
    "- By default\n",
    "  - the padding is 0 and the stride is 1. \n",
    "- In practice we rarely use inhomogeneous strides or padding, i.e. we usually have $p_h = p_w$ and $s_h = s_w$."
   ]
  },
  {
   "cell_type": "markdown",
   "metadata": {},
   "source": [
    "# 5.4 Multiple Input and Output Channels\n",
    "- Assuming that the height and width of the color image are $h$ and $w$ (pixels), it can be represented in the memory as a multi-dimensional array of $3\\times h\\times w$. \n",
    "- We refer to this dimension, with a size of 3, as the ***channel*** dimension."
   ]
  },
  {
   "cell_type": "markdown",
   "metadata": {},
   "source": [
    "## 5.4.1 Multiple Input Channels\n",
    "- When the input data contains multiple channels, we need to construct ***a convolution kernel with the same number of input channels***, so that it can perform cross-correlation with the input data.\n",
    "- The number of channels for the input data: $c_i$\n",
    "- The convolution kernel window shape: $k_h\\times k_w$, \n",
    "- Finally, the shape of convolution kernel is $c_i\\times k_h\\times k_w$\n",
    "- Cross correlation\n",
    "  - $(1\\times1+2\\times2+4\\times3+5\\times4)+(0\\times0+1\\times1+3\\times2+4\\times3)=56$\n",
    "![](https://github.com/d2l-ai/d2l-en/raw/master/img/conv_multi_in.svg?sanitize=true)"
   ]
  },
  {
   "cell_type": "code",
   "execution_count": 26,
   "metadata": {},
   "outputs": [],
   "source": [
    "import gluonbook as gb\n",
    "from mxnet import nd\n",
    "\n",
    "def corr2d_multi_in(X, K):\n",
    "    # First, traverse along the 0th dimension (channel dimension) of X and K. \n",
    "    # Then, add them together by using * to turn the result list into a positional argument of the add_n function.\n",
    "    return nd.add_n(*[gb.corr2d(x, k) for x, k in zip(X, K)])"
   ]
  },
  {
   "cell_type": "code",
   "execution_count": 27,
   "metadata": {},
   "outputs": [
    {
     "data": {
      "text/plain": [
       "\n",
       "[[ 56.  72.]\n",
       " [104. 120.]]\n",
       "<NDArray 2x2 @cpu(0)>"
      ]
     },
     "execution_count": 27,
     "metadata": {},
     "output_type": "execute_result"
    }
   ],
   "source": [
    "X = nd.array([\n",
    "    [[0, 1, 2], [3, 4, 5], [6, 7, 8]],\n",
    "    [[1, 2, 3], [4, 5, 6], [7, 8, 9]]\n",
    "])\n",
    "K = nd.array([\n",
    "    [[0, 1], [2, 3]], \n",
    "    [[1, 2], [3, 4]]\n",
    "])\n",
    "\n",
    "corr2d_multi_in(X, K)"
   ]
  },
  {
   "cell_type": "markdown",
   "metadata": {},
   "source": [
    "## 5.4.2 Multiple Output Channels\n",
    "- We might need more than one output\n",
    "  - for edge detection in different directions or \n",
    "  - for more advanced filters\n",
    "- The number of input channels: $c_i$\n",
    "- The number of output channels: $c_o$\n",
    "- let $k_h$ and $k_w$ be the height and width of the kernel. \n",
    "- To get an output with multiple channels, we can create a kernel array of shape $c_i\\times k_h\\times k_w$ for each output channel. \n",
    "- We concatenate them on the output channel dimension, so that the shape of the convolution kernel is $c_o\\times c_i\\times k_h\\times k_w$. \n",
    "- In cross-correlation operations, the result on each output channel is calculated from the kernel array of the convolution kernel on the same output channel and the entire input array."
   ]
  },
  {
   "cell_type": "code",
   "execution_count": 29,
   "metadata": {},
   "outputs": [],
   "source": [
    "def corr2d_multi_in_out(X, K):\n",
    "    # Traverse along the 0th dimension of K, and each time, \n",
    "    # perform cross-correlation operations with input X. \n",
    "    # All of the results are merged together using the stack function.\n",
    "    return nd.stack(*[corr2d_multi_in(X, k) for k in K])"
   ]
  },
  {
   "cell_type": "markdown",
   "metadata": {},
   "source": [
    "- We construct a convolution kernel with 3 output channels by concatenating the kernel array $K$ with $K+1$ (plus one for each element in $K$) and $K+2$."
   ]
  },
  {
   "cell_type": "code",
   "execution_count": 31,
   "metadata": {},
   "outputs": [
    {
     "data": {
      "text/plain": [
       "(3, 2, 2, 2)"
      ]
     },
     "execution_count": 31,
     "metadata": {},
     "output_type": "execute_result"
    }
   ],
   "source": [
    "K = nd.array([\n",
    "    [[0, 1], [2, 3]], \n",
    "    [[1, 2], [3, 4]]\n",
    "])\n",
    "\n",
    "K = nd.stack(K, K + 1, K + 2)\n",
    "K.shape"
   ]
  },
  {
   "cell_type": "code",
   "execution_count": 32,
   "metadata": {},
   "outputs": [
    {
     "data": {
      "text/plain": [
       "\n",
       "[[[ 56.  72.]\n",
       "  [104. 120.]]\n",
       "\n",
       " [[ 76. 100.]\n",
       "  [148. 172.]]\n",
       "\n",
       " [[ 96. 128.]\n",
       "  [192. 224.]]]\n",
       "<NDArray 3x2x2 @cpu(0)>"
      ]
     },
     "execution_count": 32,
     "metadata": {},
     "output_type": "execute_result"
    }
   ],
   "source": [
    "corr2d_multi_in_out(X, K)"
   ]
  },
  {
   "cell_type": "markdown",
   "metadata": {},
   "source": [
    "## 5.4.3 1×1 Convolutional Layer\n",
    "- $1 \\times 1$ convolution, i.e. $k_h = k_w = 1$ \n",
    "  - $1 \\times 1$ convolution obviously doesn't correlates adjacent pixels. \n",
    "  \n",
    "- $1\\times 1$ convolution loses the ability of the convolutional layer to recognize patterns composed of adjacent elements in the height and width dimensions. \n",
    "\n",
    "- The main computation of the $1\\times 1$ convolution occurs on the channel dimension. \n",
    "![](https://github.com/d2l-ai/d2l-en/raw/master/img/conv_1x1.svg?sanitize=true)"
   ]
  },
  {
   "cell_type": "markdown",
   "metadata": {},
   "source": [
    "- <u>The inputs and outputs have the same height and width</u>. \n",
    "- Each element in the output is derived from a linear combination of elements in the same position in the height and width of the input between different channels. \n",
    "- Assuming that the channel dimension is considered a feature dimension and that the elements in the height and width dimensions are considered data examples, then the $1\\times 1$ convolutional layer is equivalent to the fully connected layer."
   ]
  },
  {
   "cell_type": "code",
   "execution_count": 33,
   "metadata": {},
   "outputs": [],
   "source": [
    "def corr2d_multi_in_out_1x1(X, K):\n",
    "    c_i, h, w = X.shape\n",
    "    c_o = K.shape[0]\n",
    "    X = X.reshape((c_i, h * w))   #(c_i, h*w) = (3, 9)\n",
    "    K = K.reshape((c_o, c_i))     #(c_o, c_i) = (2, 3)\n",
    "    Y = nd.dot(K, X)  # Matrix multiplication in the fully connected layer.\n",
    "    return Y.reshape((c_o, h, w)) #(2, 3, 3)"
   ]
  },
  {
   "cell_type": "code",
   "execution_count": 35,
   "metadata": {},
   "outputs": [
    {
     "data": {
      "text/plain": [
       "True"
      ]
     },
     "execution_count": 35,
     "metadata": {},
     "output_type": "execute_result"
    }
   ],
   "source": [
    "X = nd.random.uniform(shape=(3, 3, 3))\n",
    "K = nd.random.uniform(shape=(2, 3, 1, 1))\n",
    "\n",
    "Y1 = corr2d_multi_in_out_1x1(X, K)\n",
    "Y2 = corr2d_multi_in_out(X, K)\n",
    "(Y1 - Y2).norm().asscalar() < 1e-6"
   ]
  },
  {
   "cell_type": "markdown",
   "metadata": {},
   "source": [
    "- The $1\\times 1$ convolutional layer is equivalent to the fully connected layer, when applied on a per pixel basis.\n",
    "\n",
    "- The $1\\times 1$ convolutional layer is typically used to <u>adjust the number of channels between network layers and to control model complexity</u>."
   ]
  },
  {
   "cell_type": "markdown",
   "metadata": {},
   "source": [
    "# 5.5 Pooling\n",
    "- As we process images (or other data sources) we will eventually want to reduce the resolution of the images. \n",
    "- Reasons\n",
    "  - 1) We typically want to output an estimate that does not depend on the dimensionality of the original image.\n",
    "  - 2) When detecting lower-level features, such as edge detection, we often want to have some degree of invariance to translation. "
   ]
  },
  {
   "attachments": {},
   "cell_type": "markdown",
   "metadata": {},
   "source": [
    "## 5.5.1 Maximum Pooling and Average Pooling\n",
    "- Pooling computes the output for each element in a fixed-shape window (also known as a pooling window) of input data.\n",
    "  - The pooling layer directly calculates the maximum or average value of the elements in the pooling window. \n",
    "  - These operations are called maximum pooling or average pooling respectively.\n",
    "  ![](https://github.com/d2l-ai/d2l-en/raw/master/img/pooling.svg?sanitize=true![image.png](attachment:image.png))\n",
    "- The four elements are derived from the maximum value of $\\text{max}$: $$ \\max(0,1,3,4)=4,\\\\ \\max(1,2,4,5)=5,\\\\ \\max(3,4,6,7)=7,\\\\ \\max(4,5,7,8)=8.\\ $$\n",
    "\n",
    "- The pooling layer with a pooling window shape of $p \\times q$ is called the $p \\times q$ pooling layer.\n",
    "- The pooling operation is called $p \\times q$ pooling.\n",
    "- That is to say, using the $2\\times 2$ maximum pooling layer, we can still detect if the pattern recognized by the convolutional layer moves no more than one element in height and width."
   ]
  },
  {
   "cell_type": "code",
   "execution_count": 36,
   "metadata": {},
   "outputs": [],
   "source": [
    "from mxnet import nd\n",
    "from mxnet.gluon import nn\n",
    "\n",
    "def pool2d(X, pool_size, mode='max'):\n",
    "    p_h, p_w = pool_size\n",
    "    Y = nd.zeros((X.shape[0] - p_h + 1, X.shape[1] - p_w + 1))\n",
    "    for i in range(Y.shape[0]):\n",
    "        for j in range(Y.shape[1]):\n",
    "            if mode == 'max':\n",
    "                Y[i, j] = X[i: i + p_h, j: j + p_w].max()\n",
    "            elif mode == 'avg':\n",
    "                Y[i, j] = X[i: i + p_h, j: j + p_w].mean()\n",
    "    return Y"
   ]
  },
  {
   "cell_type": "code",
   "execution_count": 37,
   "metadata": {},
   "outputs": [
    {
     "data": {
      "text/plain": [
       "\n",
       "[[4. 5.]\n",
       " [7. 8.]]\n",
       "<NDArray 2x2 @cpu(0)>"
      ]
     },
     "execution_count": 37,
     "metadata": {},
     "output_type": "execute_result"
    }
   ],
   "source": [
    "X = nd.array([[0, 1, 2], [3, 4, 5], [6, 7, 8]])\n",
    "pool2d(X, (2, 2))"
   ]
  },
  {
   "cell_type": "code",
   "execution_count": 38,
   "metadata": {},
   "outputs": [
    {
     "data": {
      "text/plain": [
       "\n",
       "[[2. 3.]\n",
       " [5. 6.]]\n",
       "<NDArray 2x2 @cpu(0)>"
      ]
     },
     "execution_count": 38,
     "metadata": {},
     "output_type": "execute_result"
    }
   ],
   "source": [
    "pool2d(X, (2, 2), 'avg')"
   ]
  },
  {
   "cell_type": "markdown",
   "metadata": {},
   "source": [
    "## 5.5.2 Padding and Stride"
   ]
  },
  {
   "cell_type": "markdown",
   "metadata": {},
   "source": [
    "- We will demonstrate the use of padding and stride in the pooling layer through the two-dimensional maximum pooling layer `MaxPool2D` in the `nn` module. \n",
    "- Pooling, combined with a stride larger than 1 can be used to reduce the resolution."
   ]
  },
  {
   "cell_type": "code",
   "execution_count": 39,
   "metadata": {},
   "outputs": [
    {
     "data": {
      "text/plain": [
       "\n",
       "[[[[ 0.  1.  2.  3.]\n",
       "   [ 4.  5.  6.  7.]\n",
       "   [ 8.  9. 10. 11.]\n",
       "   [12. 13. 14. 15.]]]]\n",
       "<NDArray 1x1x4x4 @cpu(0)>"
      ]
     },
     "execution_count": 39,
     "metadata": {},
     "output_type": "execute_result"
    }
   ],
   "source": [
    "X = nd.arange(16).reshape((1, 1, 4, 4))\n",
    "X"
   ]
  },
  {
   "cell_type": "markdown",
   "metadata": {},
   "source": [
    "- Because there are no model parameters in the pooling layer, we do not need to call the parameter initialization function.\n",
    "- By default, the stride in the `MaxPool2D class` has the same shape as the pooling window. "
   ]
  },
  {
   "cell_type": "code",
   "execution_count": 40,
   "metadata": {},
   "outputs": [
    {
     "data": {
      "text/plain": [
       "\n",
       "[[[[10.]]]]\n",
       "<NDArray 1x1x1x1 @cpu(0)>"
      ]
     },
     "execution_count": 40,
     "metadata": {},
     "output_type": "execute_result"
    }
   ],
   "source": [
    "pool2d = nn.MaxPool2D(3)\n",
    "pool2d(X)"
   ]
  },
  {
   "cell_type": "code",
   "execution_count": 41,
   "metadata": {},
   "outputs": [
    {
     "data": {
      "text/plain": [
       "\n",
       "[[[[ 5.  7.]\n",
       "   [13. 15.]]]]\n",
       "<NDArray 1x1x2x2 @cpu(0)>"
      ]
     },
     "execution_count": 41,
     "metadata": {},
     "output_type": "execute_result"
    }
   ],
   "source": [
    "pool2d = nn.MaxPool2D(3, padding=1, strides=2)\n",
    "pool2d(X)"
   ]
  },
  {
   "cell_type": "code",
   "execution_count": 42,
   "metadata": {},
   "outputs": [
    {
     "data": {
      "text/plain": [
       "\n",
       "[[[[ 0.  3.]\n",
       "   [ 8. 11.]\n",
       "   [12. 15.]]]]\n",
       "<NDArray 1x1x3x2 @cpu(0)>"
      ]
     },
     "execution_count": 42,
     "metadata": {},
     "output_type": "execute_result"
    }
   ],
   "source": [
    "pool2d = nn.MaxPool2D((2, 3), padding=(1, 2), strides=(2, 3))\n",
    "pool2d(X)"
   ]
  },
  {
   "cell_type": "markdown",
   "metadata": {},
   "source": [
    "## 5.5.3 Multiple Channels\n",
    "- When processing multi-channel input data, the pooling layer pools each input channel separately\n",
    "    - [Note] A convolutional layer adds the inputs of each channel\n",
    "- This means that <u>the number of output channels for the pooling layer is the same as the number of input channels</u>.\n"
   ]
  },
  {
   "cell_type": "code",
   "execution_count": 44,
   "metadata": {},
   "outputs": [
    {
     "data": {
      "text/plain": [
       "\n",
       "[[[[ 0.  1.  2.  3.]\n",
       "   [ 4.  5.  6.  7.]\n",
       "   [ 8.  9. 10. 11.]\n",
       "   [12. 13. 14. 15.]]\n",
       "\n",
       "  [[ 1.  2.  3.  4.]\n",
       "   [ 5.  6.  7.  8.]\n",
       "   [ 9. 10. 11. 12.]\n",
       "   [13. 14. 15. 16.]]]]\n",
       "<NDArray 1x2x4x4 @cpu(0)>"
      ]
     },
     "execution_count": 44,
     "metadata": {},
     "output_type": "execute_result"
    }
   ],
   "source": [
    "X = nd.arange(16).reshape((1, 1, 4, 4))\n",
    "X = nd.concat(X, X + 1, dim=1)\n",
    "X"
   ]
  },
  {
   "cell_type": "code",
   "execution_count": 45,
   "metadata": {},
   "outputs": [
    {
     "data": {
      "text/plain": [
       "\n",
       "[[[[ 5.  7.]\n",
       "   [13. 15.]]\n",
       "\n",
       "  [[ 6.  8.]\n",
       "   [14. 16.]]]]\n",
       "<NDArray 1x2x2x2 @cpu(0)>"
      ]
     },
     "execution_count": 45,
     "metadata": {},
     "output_type": "execute_result"
    }
   ],
   "source": [
    "pool2d = nn.MaxPool2D(3, padding=1, strides=2)\n",
    "pool2d(X)"
   ]
  }
 ],
 "metadata": {
  "kernelspec": {
   "display_name": "Python 3",
   "language": "python",
   "name": "python3"
  },
  "language_info": {
   "codemirror_mode": {
    "name": "ipython",
    "version": 3
   },
   "file_extension": ".py",
   "mimetype": "text/x-python",
   "name": "python",
   "nbconvert_exporter": "python",
   "pygments_lexer": "ipython3",
   "version": "3.6.7"
  }
 },
 "nbformat": 4,
 "nbformat_minor": 2
}
