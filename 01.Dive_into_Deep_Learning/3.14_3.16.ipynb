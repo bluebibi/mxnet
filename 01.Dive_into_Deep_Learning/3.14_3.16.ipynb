{
 "cells": [
  {
   "cell_type": "markdown",
   "metadata": {},
   "source": [
    "# 3.14 Forward Propagation, Back Propagation and Computational Graphs"
   ]
  },
  {
   "cell_type": "markdown",
   "metadata": {},
   "source": [
    "- In the previous secitons...\n",
    "  - we calculated the forward propagation of the model\n",
    "    - we calculated the model output for the input\n",
    "  - Then, execute the auto-generated `backward` function to calculate the gradient\n",
    "    - based on back-propagation\n",
    "- In this section...\n",
    "  - we will use both mathematical and computational graphs to describe ***forward and back propagation***"
   ]
  },
  {
   "cell_type": "markdown",
   "metadata": {},
   "source": [
    "## 3.14.1 Forward Propagation\n",
    "- Forward Propagation\n",
    "  - It refers to ***the calculation and storage of intermediate variables*** (including outputs) for the neural network in the order from input layer to output layer.\n",
    "  - Let’s assume that the input example is $\\mathbf{x}\\in \\mathbb{R}^d$ and there is no bias term. \n",
    "  - Here the intermediate variable is \n",
    "\n",
    "  $$\\mathbf{z}= \\mathbf{W}^{(1)} \\mathbf{x}$$\n",
    "  where $\\mathbf{W}^{(1)} \\in \\mathbb{R}^{h \\times d}$ is the weight parameter of the hidden layer.\n",
    "  - After entering the intermediate variable $\\mathbf{z}\\in \\mathbb{R}^h$ into the activation function $\\phi$ operated by the basic elements \n",
    "\n",
    "$$\\mathbf{h}= \\phi (\\mathbf{z}).$$\n",
    "  - The hidden variable $\\mathbf{h}$ is also an intermediate variable. \n",
    "  - Assuming the parameters of the output layer only possess a weight of $\\mathbf{W}^{(2)} \\in \\mathbb{R}^{q \\times h}$, we can obtain an output layer variable with a vector length of $q$, \n",
    "  \n",
    "  $$\\mathbf{o}= \\mathbf{W}^{(2)} \\mathbf{h}.$$<br/>\n",
    "  \n",
    "  - Assuming the loss function is $l$ and the example label is $y$, we can then calculate the loss term for a single data example, \n",
    "  \n",
    "  $$L = l(\\mathbf{o}, y).$$<br/>\n",
    "  - According to the definition of $\\ell_2$ norm regularization, given the hyper-parameter $\\lambda$, the regularization term is \n",
    "  \n",
    "  $$s = \\frac{\\lambda}{2} \\left(|\\mathbf{W}^{(1)}|_F^2 + |\\mathbf{W}^{(2)}|_F^2\\right),$$<br/>\n",
    "  where the Frobenius norm of the matrix is equivalent to the calculation of the $L_2$ norm after flattening the matrix to a vector. \n",
    "    - https://en.wikipedia.org/wiki/Matrix_norm#Frobenius_norm\n",
    "  - The model's regularized loss on a given data example \n",
    "  \n",
    "  $$J = L + s.$$\n",
    "  - We refer to $J$ as the ***objective function*** of a given data exampl"
   ]
  },
  {
   "cell_type": "markdown",
   "metadata": {},
   "source": [
    "## 3.14.2 Computational Graph of Forward Propagation\n",
    "- Plotting computational graphs helps us visualize the dependencies of operators and variables within the calculation.\n",
    "![](https://github.com/d2l-ai/d2l-en/raw/master/img/forward.svg?sanitize=true![image.png](attachment:image.png)"
   ]
  },
  {
   "cell_type": "markdown",
   "metadata": {},
   "source": [
    "## 3.14.3 Back Propagation\n",
    "- Back propagation refers to the method of ***calculating the gradient of neural network parameters*** in the order of the output layer to the input layer according to the ‘chain rule ’in calculus.\n",
    "- Chain rule\n",
    "  - Assume that we have functions $\\mathsf{Y}=f(\\mathsf{X})$ and $\\mathsf{Z}=g(\\mathsf{Y}) = g \\circ f(\\mathsf{X})$, in which the input and the output $\\mathsf{X}, \\mathsf{Y}, \\mathsf{Z}$ are tensors of arbitrary shapes.\n",
    "  - By using the chain rule we can compute the derivative of $\\mathsf{Z}$ wrt. $\\mathsf{X}$ via\n",
    "\n",
    "$$\\frac{\\partial \\mathsf{Z}}{\\partial \\mathsf{X}} = \\text{prod}\\left(\\frac{\\partial \\mathsf{Z}}{\\partial \\mathsf{Y}}, \\frac{\\partial \\mathsf{Y}}{\\partial \\mathsf{X}}\\right).$$\n",
    "\n",
    "- The parameters of the simple network with one hidden layer are $\\mathbf{W}^{(1)}$ and $\\mathbf{W}^{(2)}$ ==> The objective of back propagation is to calculate the gradients $\\partial J/\\partial \\mathbf{W}^{(1)}$ and $\\partial J/\\partial \\mathbf{W}^{(2)}$.\n",
    "- The first step is to calculate the gradients of the objective function $J=L+s$ with respect to the loss term $L$ and the regularization term $s$.\n",
    "\n",
    "$$\\frac{\\partial J}{\\partial L} = 1 \\text{ and } \\frac{\\partial J}{\\partial s} = 1$$\n",
    "- Next we compute the gradient of the objective function with respect to variable of the output layer $\\mathbf{o}$ according to the chain rule.\n",
    "\n",
    "$$ \\frac{\\partial J}{\\partial \\mathbf{o}} = \\text{prod}\\left(\\frac{\\partial J}{\\partial L}, \\frac{\\partial L}{\\partial \\mathbf{o}}\\right) = \\frac{\\partial L}{\\partial \\mathbf{o}} \\in \\mathbb{R}^q $$<br/>\n",
    "\n",
    "- Next we calculate the gradients of the regularization term with respect to both parameters.\n",
    "\n",
    "$$\\frac{\\partial s}{\\partial \\mathbf{W}^{(1)}} = \\lambda \\mathbf{W}^{(1)}, \\frac{\\partial s}{\\partial \\mathbf{W}^{(2)}} = \\lambda \\mathbf{W}^{(2)} \\text{ and } \\frac{\\partial \\mathbf{o}}{\\partial \\mathbf{W}^{(2)}} = \\mathbf{h}^\\top $$<br/>\n",
    "\n",
    "- Now we are able calculate the gradient $\\partial J/\\partial \\mathbf{W}^{(2)} \\in \\mathbb{R}^{q \\times h}$ of the model parameters closest to the output layer. Using the chain rule yields:\n",
    "\n",
    "$$ \\frac{\\partial J}{\\partial \\mathbf{W}^{(2)}} = \\text{prod}\\left(\\frac{\\partial J}{\\partial \\mathbf{o}}, \\frac{\\partial \\mathbf{o}}{\\partial \\mathbf{W}^{(2)}}\\right) + \\text{prod}\\left(\\frac{\\partial J}{\\partial s}, \\frac{\\partial s}{\\partial \\mathbf{W}^{(2)}}\\right) = \\frac{\\partial L}{\\partial \\mathbf{o}} \\mathbf{h}^\\top + \\lambda \\mathbf{W}^{(2)} $$<br/>\n",
    "\n",
    "- and so forth."
   ]
  },
  {
   "cell_type": "markdown",
   "metadata": {},
   "source": [
    "## 3.14.4 Training a Model\n",
    "- When training networks, forward and backward propagation depend on each other. \n",
    "  - For forward propagation we traverse the compute graph in the direction of dependencies and compute all the variables on its path. \n",
    "  - For backpropagation, the variables are used to compute gradients on the graph in reverse order. \n",
    "- Why backpropagation requires significantly more memory?\n",
    "  - 1) We need to retain the intermediate values until backpropagation is complete. \n",
    "  - 2) we typically train with minibatches containing more than one variable"
   ]
  },
  {
   "cell_type": "markdown",
   "metadata": {},
   "source": [
    "## 3.15 Numerical Stability and Initialization"
   ]
  },
  {
   "cell_type": "markdown",
   "metadata": {},
   "source": [
    "## 3.15.1 Vanishing and Exploding Gradients\n",
    "- Consider a deep network with $d$ layers, input $\\mathbf{x}$ and output $\\mathbf{o}$. Each layer satisfies:\n",
    "\n",
    "$$\\mathbf{h}^{t+1} = f_t (\\mathbf{h}^t) \\text{ and thus } \\mathbf{o} = f_d \\circ \\ldots \\circ f_1(\\mathbf{x})$$\n",
    "- The gradient of $\\mathbf{o}$ with respect to any set of parameters $\\mathbf{W}_t$ associated with the function $f_t$ at layer $t$ simply as\n",
    "\n",
    "$$\\partial_{\\mathbf{W}t} \\mathbf{o} = \\underbrace{\\partial_{\\mathbf{h}^{d-1}} \\mathbf{h}^d}_{:= \\mathbf{M}_d} \\cdot \\ldots \\cdot \\underbrace{\\partial_{\\mathbf{h}^{t+1}} \\mathbf{h}^{t+2}}_{:= \\mathbf{M}_{t+1}} \\cdot \\underbrace{\\partial_{\\mathbf{h}^{t}} \\mathbf{h}^{t+1}}_{:= \\mathbf{M}_t} \\cdot \\underbrace{\\partial_{\\mathbf{W}t} \\mathbf{h}^t}_{:= \\mathbf{v}_t}.$$\n",
    "\n",
    "- The matrices $M_t$ may well have a wide variety of eigenvalues. \n",
    "  - They might be small, they might be large, and in particular, their product might well be very large or very small.\n",
    "  - http://setosa.io/ev/eigenvectors-and-eigenvalues/\n",
    "- This means that the optimization algorithm is bound to fail. \n",
    "  - It either receives gradients with excessively large or excessively small steps. \n",
    "  - In the former case, the parameters explode\n",
    "  - In the latter case, we end up with vanishing gradients and no meanigful progress."
   ]
  },
  {
   "cell_type": "markdown",
   "metadata": {},
   "source": [
    "- Exploding Gradients\n",
    "  - we draw 100 Gaussain random matrices and multiply them with some initial matrix."
   ]
  },
  {
   "cell_type": "code",
   "execution_count": 15,
   "metadata": {},
   "outputs": [
    {
     "name": "stdout",
     "output_type": "stream",
     "text": [
      "A single matrix \n",
      "[[-5.5410951e-01 -2.5639790e-01 -7.8186011e-01 -1.5031214e+00]\n",
      " [-1.0607985e+00 -2.5132334e+00  6.5148938e-01 -6.0702908e-01]\n",
      " [ 5.2347612e-01 -2.0822671e-03  6.1475140e-01  1.4645545e+00]\n",
      " [ 5.7122988e-01  1.1327640e+00 -5.2853018e-01 -2.0936570e-01]]\n",
      "<NDArray 4x4 @cpu(0)>\n",
      "\n",
      "[-1.705154  +0.j         -0.38180867+0.74472266j -0.38180867-0.74472266j\n",
      " -0.19318593+0.j        ]\n",
      "After multiplying 100 matrices \n",
      "[[ 4.1391511e+23  3.2834950e+22 -7.0896819e+21 -1.4974215e+22]\n",
      " [ 1.6037556e+24  1.2722228e+23 -2.7469440e+22 -5.8018901e+22]\n",
      " [-1.9988672e+23 -1.5856566e+22  3.4237518e+21  7.2313263e+21]\n",
      " [-3.6506759e+23 -2.8959967e+22  6.2529075e+21  1.3206971e+22]]\n",
      "<NDArray 4x4 @cpu(0)>\n"
     ]
    }
   ],
   "source": [
    "%matplotlib inline\n",
    "import mxnet as mx\n",
    "from mxnet import nd, autograd\n",
    "from matplotlib import pyplot as plt\n",
    "from numpy import linalg as LA\n",
    "\n",
    "M = nd.random.normal(shape=(4,4))\n",
    "print('A single matrix', M)\n",
    "print()\n",
    "\n",
    "w, v = LA.eig(M.asnumpy())\n",
    "print(w)\n",
    "\n",
    "for i in range(100):\n",
    "    M = nd.dot(M, nd.random.normal(shape=(4,4)))\n",
    "\n",
    "print('After multiplying 100 matrices', M)"
   ]
  },
  {
   "cell_type": "markdown",
   "metadata": {},
   "source": [
    "- Vanishing Gradients\n",
    "  - Picking 'sigmoid' as nonlinear activation function might be problematic.\n",
    "  - If the activations are not in the range of $[-4, 4]$, the gradients of the overall product may vanish. \n",
    "  - Before ReLu $\\max(0,x)$ was proposed, this problem used to be the bane of deep network training. \n",
    "  - As a consequence ReLu has become the default choice when designing activation functions in deep networks."
   ]
  },
  {
   "cell_type": "code",
   "execution_count": 13,
   "metadata": {},
   "outputs": [
    {
     "data": {
      "image/png": "[encoded data removed]",
      "text/plain": [
       "<Figure size 576x288 with 1 Axes>"
      ]
     },
     "metadata": {
      "needs_background": "light"
     },
     "output_type": "display_data"
    }
   ],
   "source": [
    "x = nd.arange(-8.0, 8.0, 0.1)\n",
    "x.attach_grad()\n",
    "with autograd.record():\n",
    "    y = x.sigmoid()\n",
    "y.backward()\n",
    "\n",
    "plt.figure(figsize=(8, 4))\n",
    "plt.plot(x.asnumpy(), y.asnumpy())\n",
    "plt.plot(x.asnumpy(), x.grad.asnumpy())\n",
    "plt.legend(['sigmoid', 'gradient'])\n",
    "plt.show()"
   ]
  },
  {
   "cell_type": "markdown",
   "metadata": {},
   "source": [
    "- Symmetry\n",
    "  - Assume that we initialize the parameters of a layer as $\\mathbf{W}_l = 0$ or all entries of $\\mathbf{W}_l$ are identical. \n",
    "    - In this case the gradients for all units in the layer are identical.\n",
    "    - We will never be able to use the expressive power inherent in the layer. \n",
    "      - In fact, the hidden layer behaves as if it had only a single unit."
   ]
  },
  {
   "cell_type": "markdown",
   "metadata": {},
   "source": [
    "## 3.15.2 Parameter Initialization\n",
    "- We can ensure that at least initially the gradients do not vanish and that they are within a reasonable scale where the network weights do not diverge. \n",
    "- Basic initialization\n",
    "  - `net.initialize()`\n",
    "    - It use the default random initialization method\n",
    "      - Each element of the weight parameter is randomly sampled with an uniform distribution $U[-0.07, 0.07]$ \n",
    "      - Bias parameters are all set to $0$. \n",
    "      \n",
    "  - `net.initialize(init.Normal(sigma=0.01))` \n",
    "    - Pick normally distributed random numbers as initial values for the weights and bias.\n",
    "  - Both choices tend to work quite well in practice for moderate problem sizes.\n",
    "\n",
    "- Xavier Initialization\n",
    "  - http://proceedings.mlr.press/v9/glorot10a/glorot10a.pdf\n",
    "  - Assume that hidden units of a layer  $$h_{i} = \\sum_{j=1}^{n_\\mathrm{in}} W_{ij} x_j$$\n",
    "  - The weights $W_{ij}$ are all drawn independently from the same distribution. \n",
    "  - Let's assume that this distribution has zero mean and variance $\\sigma^2$ \n",
    "  - Let's assume that the inputs also have zero mean and variance $\\gamma^2$ and that they're independent of $\\mathbf{W}$. \n",
    "  - In this case we can compute mean and variance of $h_i$ as follows: $$ \\begin{aligned} \\mathbf{E}[h_i] & = \\sum_{j=1}^{n_\\mathrm{in}} \\mathbf{E}[W_{ij} x_j] = 0 \\\\ \\mathbf{E}[h_i^2] & = \\sum_{j=1}^{n_\\mathrm{in}} \\mathbf{E}[W^2_{ij} x^2_j] \\\\ & = \\sum_{j=1}^{n_\\mathrm{in}} \\mathbf{E}[W^2_{ij}] \\mathbf{E}[x^2_j] \\\\ & = n_\\mathrm{in} \\sigma^2 \\gamma^2 \\end{aligned} $$\n",
    "\n",
    "  - One way to keep the variance fixed is to set $n_\\mathrm{in} \\sigma^2 = 1$. \n",
    "  - When backpropagation is executed, instead of $\\mathbf{W} \\mathbf{w}$, we need to deal with $\\mathbf{W}^\\top \\mathbf{g}$, where $\\mathbf{g}$ is the incoming gradient from the layer above. \n",
    "  - Using the same reasoning, one way to keep the gradients' variance fixed is to set $n_\\mathrm{out} \\sigma^2 = 1$. \n",
    "  - So, we simply try to satisfy $$ \\begin{aligned} \\frac{1}{2} (n_\\mathrm{in} + n_\\mathrm{out}) \\sigma^2 = 1 \\text{ or equivalently } \\sigma = \\sqrt{\\frac{2}{n_\\mathrm{in} + n_\\mathrm{out}}} \\end{aligned} $$\n",
    "  - For Gaussian random variables...\n",
    "    - the Xavier initialization picks a normal distribution with zero mean and variance $\\sigma^2 = 2/(n_\\mathrm{in} + n_\\mathrm{out})$. \n",
    "  - For uniformly distributed random variables $U[-a, a]$... \n",
    "    - What do we choose $a$ value?\n",
    "    - Variance $\\sigma^2$ is given by $a^2/3$. \n",
    "    - Plugging $a^2/3$ into $\\sigma^2$ yields that $a=\\sqrt{6/(n_\\mathrm{in} + n_\\mathrm{out})}$\n",
    "    \n",
    "- Beyond\n",
    "  - The `mxnet.initializer` package\n",
    "    - https://mxnet.incubator.apache.org/api/python/optimization/optimization.html#the-mxnet-initializer-package"
   ]
  },
  {
   "cell_type": "markdown",
   "metadata": {},
   "source": [
    "# 3.16 Environment\n",
    "- Two important things\n",
    "  - 1) where the data came from \n",
    "  - 2) how the built models get deployed"
   ]
  },
  {
   "cell_type": "markdown",
   "metadata": {},
   "source": [
    "## 3.16.1 Covariate Shift"
   ]
  },
  {
   "cell_type": "markdown",
   "metadata": {},
   "source": [
    "- ***Covariate Shift***\n",
    "  - the situation where the distribution over the covariates (aka training data) is shifted on test data relative to the training case\n",
    "  - Mathematically speaking, we are referring the case where $p(x)$ changes but $p(y|x)$ remains unchanged"
   ]
  },
  {
   "cell_type": "code",
   "execution_count": null,
   "metadata": {},
   "outputs": [],
   "source": []
  }
 ],
 "metadata": {
  "kernelspec": {
   "display_name": "Python 3",
   "language": "python",
   "name": "python3"
  },
  "language_info": {
   "codemirror_mode": {
    "name": "ipython",
    "version": 3
   },
   "file_extension": ".py",
   "mimetype": "text/x-python",
   "name": "python",
   "nbconvert_exporter": "python",
   "pygments_lexer": "ipython3",
   "version": "3.6.7"
  }
 },
 "nbformat": 4,
 "nbformat_minor": 2
}
